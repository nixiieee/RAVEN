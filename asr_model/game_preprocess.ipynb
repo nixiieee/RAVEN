{
 "cells": [
  {
   "cell_type": "markdown",
   "id": "1c11f5df",
   "metadata": {},
   "source": [
    "# mp4 -> wav"
   ]
  },
  {
   "cell_type": "code",
   "execution_count": null,
   "id": "b69ecb36",
   "metadata": {},
   "outputs": [],
   "source": [
    "from audio_extract import extract_audio\n",
    "import os\n",
    "\n",
    "video_folder = \"data/seul_game/\"\n",
    "audio_folder = \"data/seul_game/audio/\"\n",
    "\n",
    "for filename in os.listdir(video_folder):\n",
    "    if filename.lower().endswith(\".mp4\"):\n",
    "        input_path = os.path.join(video_folder, filename)\n",
    "        output_path = os.path.join(audio_folder, os.path.splitext(filename)[0] + \".wav\")\n",
    "        extract_audio(\n",
    "            input_path=input_path,\n",
    "            output_path=output_path,\n",
    "            output_format=\"wav\"\n",
    "        )"
   ]
  },
  {
   "cell_type": "markdown",
   "id": "b68b4080",
   "metadata": {},
   "source": [
    "# clean transcripts"
   ]
  },
  {
   "cell_type": "code",
   "execution_count": null,
   "id": "a77b5087",
   "metadata": {},
   "outputs": [],
   "source": [
    "import re\n",
    "from datetime import timedelta\n",
    "import os\n",
    "import json\n",
    "from tqdm import tqdm\n",
    "import torch\n",
    "\n",
    "def time_to_seconds(time_str):\n",
    "    parts = list(map(int, time_str.split(\":\")))\n",
    "    return (\n",
    "        timedelta(minutes=parts[0], seconds=parts[1]).total_seconds()\n",
    "        if len(parts) == 2\n",
    "        else timedelta(\n",
    "            hours=parts[0], minutes=parts[1], seconds=parts[2]\n",
    "        ).total_seconds()\n",
    "    )\n",
    "\n",
    "stop_phrases = ['Редактор субтитров А.Семкин Корректор А.Егорова',\n",
    "                'Субтитры добавил DimaTorzok',\n",
    "                'Аллах Акбар, Иблис Аллах',\n",
    "                'Редактор субтитров А.Синецкая Корректор А.Егорова',\n",
    "                'Субтитры делал DimaTorzok',\n",
    "                'ПОКА!',\n",
    "                'Продолжение следует...',\n",
    "                'Спасибо за просмотр!',\n",
    "                'Удачи!']\n",
    "\n",
    "def remove_stop_phrases(text, stop_list):\n",
    "    for phrase in stop_list:\n",
    "        text = re.sub(re.escape(phrase), '', text, flags=re.IGNORECASE)\n",
    "    return re.sub(r'\\s{2,}', ' ', text).strip()\n",
    "\n",
    "model, utils = torch.hub.load(\n",
    "    repo_or_dir='snakers4/silero-vad',\n",
    "    model='silero_vad',\n",
    "    force_reload=True\n",
    ")\n",
    "\n",
    "(get_speech_timestamps, save_audio, read_audio, VADIterator, collect_chunks) = utils\n",
    "\n",
    "def detect_vad_end(start_sec, wav, total, max_duration=60):\n",
    "    sr = 16000\n",
    "    start_sample = int(sr * start_sec)\n",
    "    end_sample = min(total, start_sample + sr * max_duration)\n",
    "    segment = wav[start_sample:end_sample]\n",
    "\n",
    "    speech_timestamps = get_speech_timestamps(\n",
    "        segment.unsqueeze(0),\n",
    "        model,\n",
    "        sampling_rate=sr,\n",
    "        return_seconds=True\n",
    "    )\n",
    "    if speech_timestamps:\n",
    "        last_end = speech_timestamps[-1]['end']\n",
    "        return min(start_sec + last_end, total / sr)\n",
    "    return min(start_sec + 30, total / sr)\n",
    "\n",
    "def reformat(filepath, audio_path, output_json):\n",
    "    with open(filepath, \"r\", encoding=\"utf-8\") as file:\n",
    "        lines = file.readlines()[3:]  \n",
    "\n",
    "    print(f\"Working on {filepath}...\")\n",
    "\n",
    "    transcription_data = []\n",
    "    pattern = re.compile(\n",
    "        r\"(\\d+:\\d+:\\d+|\\d+:\\d+)\\s*-\\s*(.*?)\\n(.*?)(?=\\n\\d+:\\d+:\\d+|\\n\\d+:\\d+|$)\", re.DOTALL\n",
    "    )\n",
    "\n",
    "    text = \"\".join(lines)\n",
    "\n",
    "    matches = list(pattern.finditer(text))\n",
    "    print(f\"Всего совпадений: {len(matches)}\")\n",
    "\n",
    "    sr=16000\n",
    "    wav = read_audio(audio_path, sampling_rate=sr)\n",
    "    total = wav.shape[0]\n",
    "\n",
    "    for match in tqdm(matches, total=len(matches), desc=\"Обработка сегментов\"):\n",
    "        start_time = match.group(1)\n",
    "        speaker = match.group(2).strip()\n",
    "        raw_text = match.group(3).strip().replace(\"\\n\", \" \")\n",
    "\n",
    "        clean_text = remove_stop_phrases(raw_text, stop_phrases)\n",
    "\n",
    "        if not clean_text:\n",
    "            continue \n",
    "\n",
    "        start_seconds = time_to_seconds(start_time)\n",
    "        transcription_data.append(\n",
    "            {\n",
    "                \"start\": start_seconds,\n",
    "                \"end\": None,\n",
    "                \"speaker\": speaker,\n",
    "                \"text\": clean_text,\n",
    "            }\n",
    "        )\n",
    "\n",
    "    for i in tqdm(range(len(transcription_data) - 1)):\n",
    "        proposed_start = max(1, int(transcription_data[i + 1][\"start\"] - transcription_data[i][\"start\"]))\n",
    "        end_seconds = detect_vad_end(transcription_data[i][\"start\"], wav, total, max_duration=min(60, proposed_start))\n",
    "        transcription_data[i][\"end\"] = end_seconds\n",
    "    last_start = transcription_data[-1][\"start\"]\n",
    "    end_seconds = detect_vad_end(last_start, wav, total, max_duration=min(60, (total / sr) - last_start))\n",
    "    transcription_data[-1][\"end\"] = end_seconds\n",
    "\n",
    "    merged = []\n",
    "    i = 0\n",
    "    while i < len(transcription_data):\n",
    "        curr = transcription_data[i]\n",
    "        j = i + 1\n",
    "        while j < len(transcription_data):\n",
    "            next_ = transcription_data[j]\n",
    "            same_speaker = ((curr[\"speaker\"] == next_[\"speaker\"]) or (next_[\"speaker\"] == \"Неопознанный оратор\") or (curr[\"speaker\"] == \"Неопознанный оратор\")) and (next_['start'] - curr['start'] < 120)\n",
    "            words = len((curr[\"text\"] + \" \" + next_[\"text\"]).split())\n",
    "\n",
    "            if same_speaker and words <= 60:\n",
    "                curr[\"end\"] = next_[\"end\"]\n",
    "                curr[\"text\"] = (curr[\"text\"] + \" \" + next_[\"text\"]).strip()\n",
    "                j += 1\n",
    "            else:\n",
    "                break\n",
    "        merged.append(curr)\n",
    "        i = j\n",
    "\n",
    "    with open(output_json, \"w\", encoding=\"utf-8\") as json_file:\n",
    "        json.dump(merged, json_file, ensure_ascii=False, indent=4)\n",
    "\n",
    "    print(f\"Saved {len(merged)} segments to {output_json}\")\n",
    "\n",
    "    return"
   ]
  },
  {
   "cell_type": "code",
   "execution_count": 2,
   "id": "1c44dc39",
   "metadata": {},
   "outputs": [
    {
     "name": "stdout",
     "output_type": "stream",
     "text": [
      "Working on /home/llm_agent/video_audio_pipeline/data/seul_game/transcriptions/А2_5_mp4 Транскрипт.txt...\n",
      "Всего совпадений: 251\n"
     ]
    },
    {
     "name": "stderr",
     "output_type": "stream",
     "text": [
      "Обработка сегментов: 100%|██████████| 251/251 [00:00<00:00, 11723.89it/s]\n",
      "100%|██████████| 250/250 [00:57<00:00,  4.37it/s]\n"
     ]
    },
    {
     "name": "stdout",
     "output_type": "stream",
     "text": [
      "Saved 211 segments to /home/llm_agent/video_audio_pipeline/data/seul_game/transcriptions/А2_5_formatted.json\n",
      "Working on /home/llm_agent/video_audio_pipeline/data/seul_game/transcriptions/А2_3_mp4 Транскрипт.txt...\n",
      "Всего совпадений: 604\n"
     ]
    },
    {
     "name": "stderr",
     "output_type": "stream",
     "text": [
      "Обработка сегментов: 100%|██████████| 604/604 [00:00<00:00, 15962.29it/s]\n",
      "100%|██████████| 603/603 [01:14<00:00,  8.09it/s]\n"
     ]
    },
    {
     "name": "stdout",
     "output_type": "stream",
     "text": [
      "Saved 472 segments to /home/llm_agent/video_audio_pipeline/data/seul_game/transcriptions/А2_3_formatted.json\n",
      "Working on /home/llm_agent/video_audio_pipeline/data/seul_game/transcriptions/А2_4_mp4 Транскрипт.txt...\n",
      "Всего совпадений: 164\n"
     ]
    },
    {
     "name": "stderr",
     "output_type": "stream",
     "text": [
      "Обработка сегментов: 100%|██████████| 164/164 [00:00<00:00, 18363.17it/s]\n",
      "100%|██████████| 162/162 [00:17<00:00,  9.15it/s]\n"
     ]
    },
    {
     "name": "stdout",
     "output_type": "stream",
     "text": [
      "Saved 108 segments to /home/llm_agent/video_audio_pipeline/data/seul_game/transcriptions/А2_4_formatted.json\n",
      "Working on /home/llm_agent/video_audio_pipeline/data/seul_game/transcriptions/A1_6(2)_mp4 Транскрипт.txt...\n",
      "Всего совпадений: 237\n"
     ]
    },
    {
     "name": "stderr",
     "output_type": "stream",
     "text": [
      "Обработка сегментов: 100%|██████████| 237/237 [00:00<00:00, 15254.12it/s]\n",
      "100%|██████████| 236/236 [00:44<00:00,  5.30it/s]\n"
     ]
    },
    {
     "name": "stdout",
     "output_type": "stream",
     "text": [
      "Saved 181 segments to /home/llm_agent/video_audio_pipeline/data/seul_game/transcriptions/A1_6(2)_formatted.json\n",
      "Working on /home/llm_agent/video_audio_pipeline/data/seul_game/transcriptions/A1_6(1)_mp4 Транскрипт.txt...\n",
      "Всего совпадений: 232\n"
     ]
    },
    {
     "name": "stderr",
     "output_type": "stream",
     "text": [
      "Обработка сегментов: 100%|██████████| 232/232 [00:00<00:00, 19088.21it/s]\n",
      "100%|██████████| 231/231 [00:30<00:00,  7.47it/s]\n"
     ]
    },
    {
     "name": "stdout",
     "output_type": "stream",
     "text": [
      "Saved 121 segments to /home/llm_agent/video_audio_pipeline/data/seul_game/transcriptions/A1_6(1)_formatted.json\n",
      "Working on /home/llm_agent/video_audio_pipeline/data/seul_game/transcriptions/А2_4(2)_mp4 Транскрипт.txt...\n",
      "Всего совпадений: 211\n"
     ]
    },
    {
     "name": "stderr",
     "output_type": "stream",
     "text": [
      "Обработка сегментов: 100%|██████████| 211/211 [00:00<00:00, 16955.29it/s]\n",
      "100%|██████████| 210/210 [00:37<00:00,  5.65it/s]\n"
     ]
    },
    {
     "name": "stdout",
     "output_type": "stream",
     "text": [
      "Saved 143 segments to /home/llm_agent/video_audio_pipeline/data/seul_game/transcriptions/А2_4(2)_formatted.json\n",
      "Working on /home/llm_agent/video_audio_pipeline/data/seul_game/transcriptions/А1_7_mp4 Транскрипт.txt...\n",
      "Всего совпадений: 541\n"
     ]
    },
    {
     "name": "stderr",
     "output_type": "stream",
     "text": [
      "Обработка сегментов: 100%|██████████| 541/541 [00:00<00:00, 17002.11it/s]\n",
      "100%|██████████| 540/540 [01:28<00:00,  6.09it/s]\n"
     ]
    },
    {
     "name": "stdout",
     "output_type": "stream",
     "text": [
      "Saved 393 segments to /home/llm_agent/video_audio_pipeline/data/seul_game/transcriptions/А1_7_formatted.json\n",
      "Working on /home/llm_agent/video_audio_pipeline/data/seul_game/transcriptions/A1_5_mp4 Транскрипт.txt...\n",
      "Всего совпадений: 462\n"
     ]
    },
    {
     "name": "stderr",
     "output_type": "stream",
     "text": [
      "Обработка сегментов: 100%|██████████| 462/462 [00:00<00:00, 17430.21it/s]\n",
      "100%|██████████| 461/461 [01:22<00:00,  5.61it/s]\n"
     ]
    },
    {
     "name": "stdout",
     "output_type": "stream",
     "text": [
      "Saved 325 segments to /home/llm_agent/video_audio_pipeline/data/seul_game/transcriptions/A1_5_formatted.json\n"
     ]
    }
   ],
   "source": [
    "transcription_folder = \"/home/llm_agent/video_audio_pipeline/data/seul_game/transcriptions/\"\n",
    "audio_folder = \"/home/llm_agent/video_audio_pipeline/data/seul_game/audio/\"\n",
    "for filename in os.listdir(transcription_folder):\n",
    "    if filename.lower().endswith(\".txt\"):\n",
    "        audio_path = filename.split('_mp4')[0].replace('_', '.') + '.wav'\n",
    "        reformat(filepath=transcription_folder+filename, audio_path=audio_folder+audio_path, output_json=transcription_folder+filename[:filename.find(\"_mp4\")]+'_formatted.json')"
   ]
  },
  {
   "cell_type": "markdown",
   "id": "3965cb99",
   "metadata": {},
   "source": [
    "# push to huggingface"
   ]
  },
  {
   "cell_type": "code",
   "execution_count": 4,
   "id": "54d14ac3",
   "metadata": {},
   "outputs": [
    {
     "name": "stderr",
     "output_type": "stream",
     "text": [
      "100%|██████████| 143/143 [00:06<00:00, 20.93it/s]\n",
      "100%|██████████| 181/181 [00:05<00:00, 34.68it/s]\n",
      "100%|██████████| 472/472 [00:19<00:00, 24.14it/s]\n",
      "100%|██████████| 211/211 [00:11<00:00, 18.82it/s]\n",
      "100%|██████████| 325/325 [00:16<00:00, 20.06it/s]\n",
      "100%|██████████| 108/108 [00:04<00:00, 26.20it/s]\n",
      "100%|██████████| 121/121 [00:03<00:00, 37.20it/s]\n",
      "100%|██████████| 393/393 [00:11<00:00, 34.51it/s]\n"
     ]
    }
   ],
   "source": [
    "import json, glob\n",
    "from datasets import load_dataset, Dataset\n",
    "from huggingface_hub import create_repo, HfApi\n",
    "import soundfile as sf\n",
    "import os\n",
    "import re\n",
    "from tqdm import tqdm\n",
    "\n",
    "def remove_emojis(text):\n",
    "    emoji_pattern = re.compile(\n",
    "        \"[\"\n",
    "        \"\\U0001F600-\\U0001F64F\"  # emoticons\n",
    "        \"\\U0001F300-\\U0001F5FF\"  # symbols & pictographs\n",
    "        \"\\U0001F680-\\U0001F6FF\"  # transport & map symbols\n",
    "        \"\\U0001F1E0-\\U0001F1FF\"  # flags (iOS)\n",
    "        \"\\U00002500-\\U00002BEF\"  # chinese characters\n",
    "        \"\\U00002702-\\U000027B0\"\n",
    "        \"\\U00002702-\\U000027B0\"\n",
    "        \"\\U000024C2-\\U0001F251\"\n",
    "        \"\\U0001f926-\\U0001f937\"\n",
    "        \"\\U00010000-\\U0010ffff\"\n",
    "        \"\\u2640-\\u2642\"\n",
    "        \"\\u2600-\\u2B55\"\n",
    "        \"\\u200d\"\n",
    "        \"\\u23cf\"\n",
    "        \"\\u23e9\"\n",
    "        \"\\u231a\"\n",
    "        \"\\ufe0f\"\n",
    "        \"\\u3030\"\n",
    "        \"]+\",\n",
    "        flags=re.UNICODE\n",
    "    )\n",
    "    return emoji_pattern.sub(r'', text)\n",
    "\n",
    "records = []\n",
    "audio_dir = \"../data/seul_game/audio\"\n",
    "for js_path in glob.glob(\"../data/seul_game/processed_transcriptions/*.json\"):\n",
    "    filename = js_path.split('/')[-1]\n",
    "    base_name = filename.split('_formatted')[0].replace('_', '.')\n",
    "    audio_path = audio_dir + '/' + base_name + '.wav'\n",
    "    waveform, sr = sf.read(audio_path)\n",
    "    with open(js_path, encoding=\"utf-8\") as f:\n",
    "        segments = json.load(f)\n",
    "    for i, seg in tqdm(enumerate(segments), total = len(segments)):\n",
    "        if i < 10 or len(segments) - i < 6:\n",
    "            continue\n",
    "        start_frame = int(seg[\"start\"] * sr)\n",
    "        end_frame = int(seg[\"end\"] * sr)\n",
    "        cleaned_text = remove_emojis(seg[\"corrected_text\"])\n",
    "        if seg[\"end\"] - seg[\"start\"] > 30 and seg[\"end\"] - seg[\"start\"] < 0.5:\n",
    "            continue \n",
    "        chunk_waveform = waveform[start_frame:end_frame]\n",
    "\n",
    "        segment_filename = f\"{base_name}_segment_{i}.wav\"\n",
    "        segment_path = os.path.join(audio_dir, 'segments', segment_filename)\n",
    "        sf.write(segment_path, chunk_waveform, sr)\n",
    "\n",
    "        records.append({\n",
    "            \"audio\": segment_path,\n",
    "            \"text\": cleaned_text,\n",
    "            \"speaker\": seg.get(\"speaker\", \"\")\n",
    "        })\n",
    "\n",
    "ds = Dataset.from_list(records)"
   ]
  },
  {
   "cell_type": "code",
   "execution_count": 5,
   "id": "4800e4ba",
   "metadata": {},
   "outputs": [],
   "source": [
    "from datasets import Audio\n",
    "ds = ds.cast_column(\"audio\", Audio(sampling_rate=16_000))"
   ]
  },
  {
   "cell_type": "code",
   "execution_count": 6,
   "id": "4ad86c94",
   "metadata": {},
   "outputs": [
    {
     "data": {
      "text/plain": [
       "Dataset({\n",
       "    features: ['audio', 'text', 'speaker'],\n",
       "    num_rows: 1834\n",
       "})"
      ]
     },
     "execution_count": 6,
     "metadata": {},
     "output_type": "execute_result"
    }
   ],
   "source": [
    "ds"
   ]
  },
  {
   "cell_type": "code",
   "execution_count": 7,
   "id": "9c410907",
   "metadata": {},
   "outputs": [],
   "source": [
    "from datasets import DatasetDict\n",
    "\n",
    "ds = ds.shuffle(seed=42)\n",
    "train_testvalid = ds.train_test_split(test_size=0.2, seed=42)\n",
    "\n",
    "test_valid = train_testvalid['test'].train_test_split(test_size=0.5, seed=42)\n",
    "\n",
    "train_dataset = train_testvalid['train'] \n",
    "validation_dataset = test_valid['train']\n",
    "test_dataset = test_valid['test']       \n",
    "\n",
    "split_datasets = DatasetDict({\n",
    "    \"train\": train_dataset,\n",
    "    \"validation\": validation_dataset,\n",
    "    \"test\": test_dataset,\n",
    "})"
   ]
  },
  {
   "cell_type": "code",
   "execution_count": 8,
   "id": "8792027a",
   "metadata": {},
   "outputs": [
    {
     "data": {
      "text/plain": [
       "DatasetDict({\n",
       "    train: Dataset({\n",
       "        features: ['audio', 'text', 'speaker'],\n",
       "        num_rows: 1467\n",
       "    })\n",
       "    validation: Dataset({\n",
       "        features: ['audio', 'text', 'speaker'],\n",
       "        num_rows: 183\n",
       "    })\n",
       "    test: Dataset({\n",
       "        features: ['audio', 'text', 'speaker'],\n",
       "        num_rows: 184\n",
       "    })\n",
       "})"
      ]
     },
     "execution_count": 8,
     "metadata": {},
     "output_type": "execute_result"
    }
   ],
   "source": [
    "split_datasets"
   ]
  },
  {
   "cell_type": "code",
   "execution_count": 9,
   "id": "65507d38",
   "metadata": {},
   "outputs": [
    {
     "data": {
      "application/vnd.jupyter.widget-view+json": {
       "model_id": "4e5567f4c2ca43f6a8facacb069e3b0c",
       "version_major": 2,
       "version_minor": 0
      },
      "text/plain": [
       "Uploading the dataset shards:   0%|          | 0/2 [00:00<?, ?it/s]"
      ]
     },
     "metadata": {},
     "output_type": "display_data"
    },
    {
     "data": {
      "application/vnd.jupyter.widget-view+json": {
       "model_id": "00e469fbf1de4af990f90855d5557ba2",
       "version_major": 2,
       "version_minor": 0
      },
      "text/plain": [
       "Map:   0%|          | 0/734 [00:00<?, ? examples/s]"
      ]
     },
     "metadata": {},
     "output_type": "display_data"
    },
    {
     "data": {
      "application/vnd.jupyter.widget-view+json": {
       "model_id": "066468b9166a4d5a9752121e012bfb65",
       "version_major": 2,
       "version_minor": 0
      },
      "text/plain": [
       "Creating parquet from Arrow format:   0%|          | 0/8 [00:00<?, ?ba/s]"
      ]
     },
     "metadata": {},
     "output_type": "display_data"
    },
    {
     "data": {
      "application/vnd.jupyter.widget-view+json": {
       "model_id": "2d0350247726486f86a217b5eb1ee309",
       "version_major": 2,
       "version_minor": 0
      },
      "text/plain": [
       "Map:   0%|          | 0/733 [00:00<?, ? examples/s]"
      ]
     },
     "metadata": {},
     "output_type": "display_data"
    },
    {
     "data": {
      "application/vnd.jupyter.widget-view+json": {
       "model_id": "8028073f73b1463f9f3cf83e457320e2",
       "version_major": 2,
       "version_minor": 0
      },
      "text/plain": [
       "Creating parquet from Arrow format:   0%|          | 0/8 [00:00<?, ?ba/s]"
      ]
     },
     "metadata": {},
     "output_type": "display_data"
    },
    {
     "data": {
      "application/vnd.jupyter.widget-view+json": {
       "model_id": "82eb836efbd3471292f25276694d3364",
       "version_major": 2,
       "version_minor": 0
      },
      "text/plain": [
       "Uploading the dataset shards:   0%|          | 0/1 [00:00<?, ?it/s]"
      ]
     },
     "metadata": {},
     "output_type": "display_data"
    },
    {
     "data": {
      "application/vnd.jupyter.widget-view+json": {
       "model_id": "b560736088c44f70b4d85be39b94d613",
       "version_major": 2,
       "version_minor": 0
      },
      "text/plain": [
       "Map:   0%|          | 0/183 [00:00<?, ? examples/s]"
      ]
     },
     "metadata": {},
     "output_type": "display_data"
    },
    {
     "data": {
      "application/vnd.jupyter.widget-view+json": {
       "model_id": "637f953c6b474000ab1e7135022e4cf1",
       "version_major": 2,
       "version_minor": 0
      },
      "text/plain": [
       "Creating parquet from Arrow format:   0%|          | 0/2 [00:00<?, ?ba/s]"
      ]
     },
     "metadata": {},
     "output_type": "display_data"
    },
    {
     "data": {
      "application/vnd.jupyter.widget-view+json": {
       "model_id": "95f6224b25674bf58e6bbe97c15ee330",
       "version_major": 2,
       "version_minor": 0
      },
      "text/plain": [
       "Uploading the dataset shards:   0%|          | 0/1 [00:00<?, ?it/s]"
      ]
     },
     "metadata": {},
     "output_type": "display_data"
    },
    {
     "data": {
      "application/vnd.jupyter.widget-view+json": {
       "model_id": "3385cfb7119140e593061304e772d8fe",
       "version_major": 2,
       "version_minor": 0
      },
      "text/plain": [
       "Map:   0%|          | 0/184 [00:00<?, ? examples/s]"
      ]
     },
     "metadata": {},
     "output_type": "display_data"
    },
    {
     "data": {
      "application/vnd.jupyter.widget-view+json": {
       "model_id": "c851f916127e4c55a239b14f2196f402",
       "version_major": 2,
       "version_minor": 0
      },
      "text/plain": [
       "Creating parquet from Arrow format:   0%|          | 0/2 [00:00<?, ?ba/s]"
      ]
     },
     "metadata": {},
     "output_type": "display_data"
    },
    {
     "data": {
      "text/plain": [
       "CommitInfo(commit_url='https://huggingface.co/datasets/nixiieee/seul-game-processed-30s/commit/693a81a53555a46ab5e432d961c6ed19a9ca59bc', commit_message='Upload dataset', commit_description='', oid='693a81a53555a46ab5e432d961c6ed19a9ca59bc', pr_url=None, repo_url=RepoUrl('https://huggingface.co/datasets/nixiieee/seul-game-processed-30s', endpoint='https://huggingface.co', repo_type='dataset', repo_id='nixiieee/seul-game-processed-30s'), pr_revision=None, pr_num=None)"
      ]
     },
     "execution_count": 9,
     "metadata": {},
     "output_type": "execute_result"
    }
   ],
   "source": [
    "repo_id = \"nixiieee/seul-game-processed-30s\"\n",
    "api = HfApi()\n",
    "api.create_repo(repo_id, private=True, repo_type=\"dataset\")\n",
    "\n",
    "split_datasets.push_to_hub(repo_id, private=True, max_shard_size=\"2GB\")"
   ]
  },
  {
   "cell_type": "code",
   "execution_count": 7,
   "id": "d2f5795e",
   "metadata": {},
   "outputs": [
    {
     "data": {
      "application/vnd.jupyter.widget-view+json": {
       "model_id": "ebed088f86cf413cb67c4d7cdb72b903",
       "version_major": 2,
       "version_minor": 0
      },
      "text/plain": [
       "README.md:   0%|          | 0.00/626 [00:00<?, ?B/s]"
      ]
     },
     "metadata": {},
     "output_type": "display_data"
    },
    {
     "data": {
      "application/vnd.jupyter.widget-view+json": {
       "model_id": "a19bfa69c64f448280d679fb41819307",
       "version_major": 2,
       "version_minor": 0
      },
      "text/plain": [
       "train-00000-of-00002.parquet:   0%|          | 0.00/1.16G [00:00<?, ?B/s]"
      ]
     },
     "metadata": {},
     "output_type": "display_data"
    },
    {
     "data": {
      "application/vnd.jupyter.widget-view+json": {
       "model_id": "832bf9851143405b9fb072524e8142f1",
       "version_major": 2,
       "version_minor": 0
      },
      "text/plain": [
       "train-00001-of-00002.parquet:   0%|          | 0.00/1.21G [00:00<?, ?B/s]"
      ]
     },
     "metadata": {},
     "output_type": "display_data"
    },
    {
     "data": {
      "application/vnd.jupyter.widget-view+json": {
       "model_id": "ac758d7f630c4df4860aeecd93792118",
       "version_major": 2,
       "version_minor": 0
      },
      "text/plain": [
       "validation-00000-of-00001.parquet:   0%|          | 0.00/296M [00:00<?, ?B/s]"
      ]
     },
     "metadata": {},
     "output_type": "display_data"
    },
    {
     "data": {
      "application/vnd.jupyter.widget-view+json": {
       "model_id": "55d7cf1e6e434819a3516216efa8f699",
       "version_major": 2,
       "version_minor": 0
      },
      "text/plain": [
       "test-00000-of-00001.parquet:   0%|          | 0.00/269M [00:00<?, ?B/s]"
      ]
     },
     "metadata": {},
     "output_type": "display_data"
    },
    {
     "data": {
      "application/vnd.jupyter.widget-view+json": {
       "model_id": "a84332c6357c46699ece5db611b3cfea",
       "version_major": 2,
       "version_minor": 0
      },
      "text/plain": [
       "Generating train split:   0%|          | 0/1544 [00:00<?, ? examples/s]"
      ]
     },
     "metadata": {},
     "output_type": "display_data"
    },
    {
     "data": {
      "application/vnd.jupyter.widget-view+json": {
       "model_id": "253adbf1a2fa4a6a8723fefc508506c0",
       "version_major": 2,
       "version_minor": 0
      },
      "text/plain": [
       "Generating validation split:   0%|          | 0/193 [00:00<?, ? examples/s]"
      ]
     },
     "metadata": {},
     "output_type": "display_data"
    },
    {
     "data": {
      "application/vnd.jupyter.widget-view+json": {
       "model_id": "c07215b665a94490bb042d061e13d17a",
       "version_major": 2,
       "version_minor": 0
      },
      "text/plain": [
       "Generating test split:   0%|          | 0/193 [00:00<?, ? examples/s]"
      ]
     },
     "metadata": {},
     "output_type": "display_data"
    },
    {
     "data": {
      "text/plain": [
       "DatasetDict({\n",
       "    train: Dataset({\n",
       "        features: ['audio', 'text', 'speaker'],\n",
       "        num_rows: 1544\n",
       "    })\n",
       "    validation: Dataset({\n",
       "        features: ['audio', 'text', 'speaker'],\n",
       "        num_rows: 193\n",
       "    })\n",
       "    test: Dataset({\n",
       "        features: ['audio', 'text', 'speaker'],\n",
       "        num_rows: 193\n",
       "    })\n",
       "})"
      ]
     },
     "execution_count": 7,
     "metadata": {},
     "output_type": "execute_result"
    }
   ],
   "source": [
    "check_ds = load_dataset(repo_id)\n",
    "check_ds"
   ]
  },
  {
   "cell_type": "markdown",
   "id": "4943f36f",
   "metadata": {},
   "source": [
    "# perplexity analysis"
   ]
  },
  {
   "cell_type": "code",
   "execution_count": 38,
   "id": "0debebdc",
   "metadata": {},
   "outputs": [],
   "source": [
    "from transformers import GPT2LMHeadModel, GPT2TokenizerFast\n",
    "import torch\n",
    "\n",
    "tokenizer = GPT2TokenizerFast.from_pretrained(\"gpt2\")\n",
    "model     = GPT2LMHeadModel.from_pretrained(\"gpt2\").eval()\n",
    "\n",
    "def perplexity(text: str) -> float:\n",
    "    tokens = tokenizer(text, return_tensors=\"pt\")\n",
    "    with torch.no_grad():\n",
    "        outputs = model(**tokens, labels=tokens[\"input_ids\"])\n",
    "    loss = outputs.loss.item()\n",
    "    return torch.exp(torch.tensor(loss)).item()"
   ]
  },
  {
   "cell_type": "code",
   "execution_count": null,
   "id": "29de07f1",
   "metadata": {},
   "outputs": [
    {
     "name": "stdout",
     "output_type": "stream",
     "text": [
      "Perplexity: 7.644632339477539\n"
     ]
    }
   ],
   "source": [
    "# example \n",
    "window = \"\"\n",
    "print(\"Perplexity:\", perplexity(window))"
   ]
  },
  {
   "cell_type": "code",
   "execution_count": null,
   "id": "958b7d31",
   "metadata": {},
   "outputs": [
    {
     "name": "stdout",
     "output_type": "stream",
     "text": [
      "Working on А2_4(2)_formatted.json...\n"
     ]
    },
    {
     "name": "stderr",
     "output_type": "stream",
     "text": [
      "100%|██████████| 143/143 [00:21<00:00,  6.71it/s]\n"
     ]
    },
    {
     "data": {
      "image/png": "[encoded data removed]",
      "text/plain": [
       "<Figure size 640x480 with 1 Axes>"
      ]
     },
     "metadata": {},
     "output_type": "display_data"
    },
    {
     "name": "stdout",
     "output_type": "stream",
     "text": [
      "Working on A1_6(2)_formatted.json...\n"
     ]
    },
    {
     "name": "stderr",
     "output_type": "stream",
     "text": [
      "100%|██████████| 181/181 [00:29<00:00,  6.07it/s]\n"
     ]
    },
    {
     "data": {
      "image/png": "[encoded data removed]",
      "text/plain": [
       "<Figure size 640x480 with 1 Axes>"
      ]
     },
     "metadata": {},
     "output_type": "display_data"
    },
    {
     "name": "stdout",
     "output_type": "stream",
     "text": [
      "Working on А2_3_formatted.json...\n"
     ]
    },
    {
     "name": "stderr",
     "output_type": "stream",
     "text": [
      "100%|██████████| 472/472 [00:51<00:00,  9.15it/s]\n"
     ]
    },
    {
     "data": {
      "image/png": "[encoded data removed]",
      "text/plain": [
       "<Figure size 640x480 with 1 Axes>"
      ]
     },
     "metadata": {},
     "output_type": "display_data"
    },
    {
     "name": "stdout",
     "output_type": "stream",
     "text": [
      "Working on А2_5_formatted.json...\n"
     ]
    },
    {
     "name": "stderr",
     "output_type": "stream",
     "text": [
      " 20%|█▉        | 42/211 [00:09<00:52,  3.21it/s]Token indices sequence length is longer than the specified maximum sequence length for this model (1109 > 1024). Running this sequence through the model will result in indexing errors\n",
      "100%|██████████| 211/211 [00:37<00:00,  5.61it/s]\n"
     ]
    },
    {
     "data": {
      "image/png": "[encoded data removed]",
      "text/plain": [
       "<Figure size 640x480 with 1 Axes>"
      ]
     },
     "metadata": {},
     "output_type": "display_data"
    },
    {
     "name": "stdout",
     "output_type": "stream",
     "text": [
      "Working on A1_5_formatted.json...\n"
     ]
    },
    {
     "name": "stderr",
     "output_type": "stream",
     "text": [
      "100%|██████████| 325/325 [00:47<00:00,  6.91it/s]\n"
     ]
    },
    {
     "data": {
      "image/png": "[encoded data removed]",
      "text/plain": [
       "<Figure size 640x480 with 1 Axes>"
      ]
     },
     "metadata": {},
     "output_type": "display_data"
    },
    {
     "name": "stdout",
     "output_type": "stream",
     "text": [
      "Working on А2_4_formatted.json...\n"
     ]
    },
    {
     "name": "stderr",
     "output_type": "stream",
     "text": [
      "100%|██████████| 108/108 [00:10<00:00, 10.01it/s]\n"
     ]
    },
    {
     "data": {
      "image/png": "[encoded data removed]",
      "text/plain": [
       "<Figure size 640x480 with 1 Axes>"
      ]
     },
     "metadata": {},
     "output_type": "display_data"
    },
    {
     "name": "stdout",
     "output_type": "stream",
     "text": [
      "Working on A1_6(1)_formatted.json...\n"
     ]
    },
    {
     "name": "stderr",
     "output_type": "stream",
     "text": [
      "100%|██████████| 121/121 [00:15<00:00,  7.69it/s]\n"
     ]
    },
    {
     "data": {
      "image/png": "[encoded data removed]",
      "text/plain": [
       "<Figure size 640x480 with 1 Axes>"
      ]
     },
     "metadata": {},
     "output_type": "display_data"
    },
    {
     "name": "stdout",
     "output_type": "stream",
     "text": [
      "Working on А1_7_formatted.json...\n"
     ]
    },
    {
     "name": "stderr",
     "output_type": "stream",
     "text": [
      "100%|██████████| 393/393 [00:53<00:00,  7.29it/s]\n"
     ]
    },
    {
     "data": {
      "image/png": "[encoded data removed]",
      "text/plain": [
       "<Figure size 640x480 with 1 Axes>"
      ]
     },
     "metadata": {},
     "output_type": "display_data"
    }
   ],
   "source": [
    "import seaborn as sns\n",
    "import matplotlib.pyplot as plt\n",
    "\n",
    "def split_text_on_sentence_boundary(text):\n",
    "    sentence_endings = list(re.finditer(r\"[.!?]+(?=\\s|$)\", text))\n",
    "    if not sentence_endings:\n",
    "        mid = len(text) // 2\n",
    "        return text[:mid], text[mid:]\n",
    "    \n",
    "    mid = len(text) // 2\n",
    "    closest = min(sentence_endings, key=lambda m: abs(m.start() - mid))\n",
    "\n",
    "    split_idx = closest.end()\n",
    "    return text[:split_idx].strip(), text[split_idx:].strip()\n",
    "\n",
    "delta_seconds = 0\n",
    "for filename in os.listdir(transcription_folder):\n",
    "    if filename.lower().endswith(\"_formatted.json\"):\n",
    "        with open(transcription_folder+filename, \"r\", encoding=\"utf-8\") as json_file:\n",
    "            cur_transcript = json.load(json_file)\n",
    "        print(f\"Working on {filename}...\")\n",
    "        file_perplexities = []\n",
    "        for segment in tqdm(cur_transcript):\n",
    "            if len(segment['text'].split(' ')) > 150:\n",
    "                chunk1, chunk2 = split_text_on_sentence_boundary(segment['text'])\n",
    "                try:\n",
    "                    file_perplexities.append(perplexity(chunk1))\n",
    "                    file_perplexities.append(perplexity(chunk2))\n",
    "                except:\n",
    "                    continue\n",
    "            else:\n",
    "                file_perplexities.append(perplexity(segment['text']))\n",
    "        \n",
    "        plt.figure()  \n",
    "        plt.title(filename)\n",
    "        sns.histplot(file_perplexities)\n",
    "        plt.show()"
   ]
  },
  {
   "cell_type": "markdown",
   "id": "3ef0cb70",
   "metadata": {},
   "source": [
    "# whisperx inference"
   ]
  },
  {
   "cell_type": "code",
   "execution_count": 24,
   "id": "b08c5d46",
   "metadata": {},
   "outputs": [],
   "source": [
    "import os \n",
    "os.environ[\"PATH\"] += os.pathsep + \"/home/llm_agent/ffmpeg\""
   ]
  },
  {
   "cell_type": "code",
   "execution_count": null,
   "id": "94ed8796",
   "metadata": {},
   "outputs": [
    {
     "name": "stderr",
     "output_type": "stream",
     "text": [
      "Xet Storage is enabled for this repo, but the 'hf_xet' package is not installed. Falling back to regular HTTP download. For better performance, install the package with: `pip install huggingface_hub[hf_xet]` or `pip install hf_xet`\n"
     ]
    },
    {
     "data": {
      "application/vnd.jupyter.widget-view+json": {
       "model_id": "9e9dacc3a72c4a53b203c244dde0ef47",
       "version_major": 2,
       "version_minor": 0
      },
      "text/plain": [
       "config.json:   0%|          | 0.00/2.39k [00:00<?, ?B/s]"
      ]
     },
     "metadata": {},
     "output_type": "display_data"
    },
    {
     "data": {
      "application/vnd.jupyter.widget-view+json": {
       "model_id": "d932acf4824e420cbbb70340b84dbb83",
       "version_major": 2,
       "version_minor": 0
      },
      "text/plain": [
       "tokenizer.json:   0%|          | 0.00/2.48M [00:00<?, ?B/s]"
      ]
     },
     "metadata": {},
     "output_type": "display_data"
    },
    {
     "data": {
      "application/vnd.jupyter.widget-view+json": {
       "model_id": "c6ac40ed4d144831887191e5aac14541",
       "version_major": 2,
       "version_minor": 0
      },
      "text/plain": [
       "preprocessor_config.json:   0%|          | 0.00/340 [00:00<?, ?B/s]"
      ]
     },
     "metadata": {},
     "output_type": "display_data"
    },
    {
     "data": {
      "application/vnd.jupyter.widget-view+json": {
       "model_id": "058b57cf594b4e1d8c38a2ac0833aceb",
       "version_major": 2,
       "version_minor": 0
      },
      "text/plain": [
       "model.bin:   0%|          | 0.00/3.09G [00:00<?, ?B/s]"
      ]
     },
     "metadata": {},
     "output_type": "display_data"
    },
    {
     "data": {
      "application/vnd.jupyter.widget-view+json": {
       "model_id": "507cc87fb41d4597b35ebe18b9a48490",
       "version_major": 2,
       "version_minor": 0
      },
      "text/plain": [
       "vocabulary.json:   0%|          | 0.00/1.07M [00:00<?, ?B/s]"
      ]
     },
     "metadata": {},
     "output_type": "display_data"
    },
    {
     "name": "stdout",
     "output_type": "stream",
     "text": [
      ">>Performing voice activity detection using Pyannote...\n",
      "Model was trained with pyannote.audio 0.0.1, yours is 3.3.2. Bad things might happen unless you revert pyannote.audio to 0.x.\n",
      "Model was trained with torch 1.10.0+cu102, yours is 2.7.0+cu126. Bad things might happen unless you revert torch to 1.x.\n"
     ]
    }
   ],
   "source": [
    "import whisperx\n",
    "import gc\n",
    "\n",
    "hf_token = \"\"\n",
    "device = \"cuda\"\n",
    "batch_size = 16\n",
    "compute_type = \"float16\" \n",
    "\n",
    "model = whisperx.load_model(\"large-v3\", device, compute_type=compute_type, language='ru')"
   ]
  },
  {
   "cell_type": "code",
   "execution_count": null,
   "id": "2da3b762",
   "metadata": {},
   "outputs": [],
   "source": [
    "model_a, metadata = whisperx.load_align_model(language_code='ru', device=device)"
   ]
  },
  {
   "cell_type": "code",
   "execution_count": null,
   "id": "f1e74257",
   "metadata": {},
   "outputs": [
    {
     "name": "stdout",
     "output_type": "stream",
     "text": [
      "Working on A1.5.wav...\n",
      "Failed to align segment (\" Продолжение следует.\"): backtrack failed, resorting to original...\n",
      "Failed to align segment (\" Продолжение следует.\"): backtrack failed, resorting to original...\n",
      "Failed to align segment (\" Продолжение следует...\"): backtrack failed, resorting to original...\n",
      "Transcription saved to A1.5.json!\n",
      "Working on audio chunks...\n"
     ]
    },
    {
     "name": "stderr",
     "output_type": "stream",
     "text": [
      "1145it [00:00, 1179.19it/s]\n"
     ]
    },
    {
     "name": "stdout",
     "output_type": "stream",
     "text": [
      "Working on А2.3.wav...\n",
      "Failed to align segment (\" Продолжение следует...\"): backtrack failed, resorting to original...\n",
      "Failed to align segment (\" Продолжение следует...\"): backtrack failed, resorting to original...\n",
      "Transcription saved to А2.3.json!\n",
      "Working on audio chunks...\n"
     ]
    },
    {
     "name": "stderr",
     "output_type": "stream",
     "text": [
      "1275it [00:00, 1581.92it/s]\n"
     ]
    },
    {
     "name": "stdout",
     "output_type": "stream",
     "text": [
      "Working on А2.5.wav...\n",
      "Transcription saved to А2.5.json!\n",
      "Working on audio chunks...\n"
     ]
    },
    {
     "name": "stderr",
     "output_type": "stream",
     "text": [
      "1051it [00:00, 1238.09it/s]\n"
     ]
    },
    {
     "name": "stdout",
     "output_type": "stream",
     "text": [
      "Working on А1.7.wav...\n",
      "Failed to align segment (\" Продолжение следует.\"): backtrack failed, resorting to original...\n",
      "Failed to align segment (\" Продолжение следует...\"): backtrack failed, resorting to original...\n",
      "Failed to align segment (\" Продолжение следует...\"): backtrack failed, resorting to original...\n",
      "Transcription saved to А1.7.json!\n",
      "Working on audio chunks...\n"
     ]
    },
    {
     "name": "stderr",
     "output_type": "stream",
     "text": [
      "1369it [00:00, 3647.52it/s]\n"
     ]
    },
    {
     "name": "stdout",
     "output_type": "stream",
     "text": [
      "Working on A1.6.wav...\n",
      "Failed to align segment (\" Продолжение следует...\"): backtrack failed, resorting to original...\n",
      "Failed to align segment (\" Продолжение следует...\"): backtrack failed, resorting to original...\n",
      "Failed to align segment (\" Продолжение следует...\"): backtrack failed, resorting to original...\n",
      "Transcription saved to A1.6.json!\n",
      "Working on audio chunks...\n"
     ]
    },
    {
     "name": "stderr",
     "output_type": "stream",
     "text": [
      "1335it [00:00, 3323.15it/s]\n"
     ]
    },
    {
     "name": "stdout",
     "output_type": "stream",
     "text": [
      "Working on А2.4(2).wav...\n",
      "Transcription saved to А2.4(2).json!\n",
      "Working on audio chunks...\n"
     ]
    },
    {
     "name": "stderr",
     "output_type": "stream",
     "text": [
      "479it [00:00, 1400.88it/s]\n"
     ]
    },
    {
     "name": "stdout",
     "output_type": "stream",
     "text": [
      "Working on А2.4.wav...\n",
      "Failed to align segment (\" Продолжение следует...\"): backtrack failed, resorting to original...\n",
      "Failed to align segment (\" Продолжение следует...\"): backtrack failed, resorting to original...\n",
      "Transcription saved to А2.4.json!\n",
      "Working on audio chunks...\n"
     ]
    },
    {
     "name": "stderr",
     "output_type": "stream",
     "text": [
      "301it [00:00, 1421.02it/s]\n"
     ]
    }
   ],
   "source": [
    "import os\n",
    "import json\n",
    "from pydub import AudioSegment\n",
    "from tqdm import tqdm\n",
    "\n",
    "audio_folder = \"data/seul_game/audio/\"\n",
    "chunk_size = 30\n",
    "\n",
    "for filename in os.listdir(audio_folder):\n",
    "    if filename.lower().endswith(\".wav\"):\n",
    "        print(f\"Working on {filename}...\")\n",
    "        audio_file = os.path.join(audio_folder, filename)\n",
    "        audio = whisperx.load_audio(audio_file)\n",
    "        result = model.transcribe(audio, batch_size=batch_size, chunk_size=chunk_size)\n",
    "        aligned = whisperx.align(result[\"segments\"], model_a, metadata, audio, device, return_char_alignments=False)\n",
    "\n",
    "        transcript_path = f\"{os.path.splitext(filename)[0]}.json\"\n",
    "        with open(transcript_path, \"w\", encoding=\"utf-8\") as f:\n",
    "            json.dump(aligned, f, ensure_ascii=False, indent=4)\n",
    "        print(f\"Transcription saved to {transcript_path}!\")\n",
    "\n",
    "        print(\"Working on audio chunks...\")\n",
    "        audio = AudioSegment.from_file(audio_file)\n",
    "        for id, seg in tqdm(enumerate(aligned[\"segments\"])):\n",
    "            start_ms = int(seg[\"start\"] * 1000)\n",
    "            end_ms   = int(seg[\"end\"]   * 1000)\n",
    "            chunk = audio[start_ms:end_ms]\n",
    "            out_name = f\"{audio_folder}chunks/{os.path.splitext(filename)[0]}_{id:04d}.wav\"\n",
    "            chunk.export(out_name, format=\"wav\")"
   ]
  },
  {
   "cell_type": "code",
   "execution_count": null,
   "id": "8f2dcb33",
   "metadata": {},
   "outputs": [],
   "source": []
  }
 ],
 "metadata": {
  "kernelspec": {
   "display_name": "train-gigaam-env",
   "language": "python",
   "name": "python3"
  },
  "language_info": {
   "codemirror_mode": {
    "name": "ipython",
    "version": 3
   },
   "file_extension": ".py",
   "mimetype": "text/x-python",
   "name": "python",
   "nbconvert_exporter": "python",
   "pygments_lexer": "ipython3",
   "version": "3.11.11"
  }
 },
 "nbformat": 4,
 "nbformat_minor": 5
}
