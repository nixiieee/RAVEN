{
 "cells": [
  {
   "cell_type": "code",
   "execution_count": 1,
   "id": "276303cd-9acd-470d-9b4e-53de05ced0df",
   "metadata": {},
   "outputs": [],
   "source": [
    "from openai import OpenAI\n",
    "\n",
    "client = OpenAI(\n",
    "    api_key=\"EMPTY\",\n",
    "    base_url=\"http://localhost:8000/v1\"\n",
    ")"
   ]
  },
  {
   "cell_type": "code",
   "execution_count": null,
   "id": "ace6b21e-98e1-4853-b806-4f9174fb8e65",
   "metadata": {},
   "outputs": [],
   "source": [
    "text = \"\"\n",
    "prompt = f\"\"\"Ниже — текст, полученный распознаванием аудио. В нём могут встречаться слова, которые не вписываются в смысл фразы, потому что были неправильно распознаны. Такие слова нужно заменить на фонетически похожие, которые логически подходят в контексте.\n",
    "\n",
    "ВАЖНО:\n",
    "- Не переписывай и не улучшай текст целиком, не добавляй и не убирай слова без необходимости.\n",
    "- Не меняй стиль речи, даже если он разговорный или неформальный.\n",
    "- Исправляй только те слова, которые явно выбиваются из смысла — замени их на звучащие похоже, если знаешь, что имелось в виду.\n",
    "- Если сомневаешься — оставь как есть.\n",
    "- Не возвращай ничего кроме отредактированного текста.\n",
    "\n",
    "Текст: {text}\n",
    "\n",
    "Отредактированный текст:\n",
    "\"\"\"\n",
    "resp = client.chat.completions.create(\n",
    "    model=\"Qwen/Qwen3-4B\",\n",
    "    messages=[\n",
    "      {\"role\": \"system\", \"content\": \"Ты — помощник по корректировке автоматической транскрипции речи.\"},\n",
    "      {\"role\": \"user\", \"content\": prompt}\n",
    "    ],\n",
    "    temperature=0.7,\n",
    "    top_p=0.9,\n",
    "    extra_body={\"top_k\":20},\n",
    "    max_completion_tokens=32000\n",
    ")\n",
    "\n",
    "print(resp.choices[0].message.content)"
   ]
  },
  {
   "cell_type": "code",
   "execution_count": 2,
   "id": "369f2d43-8d21-4ae4-b3fa-ce57904779fb",
   "metadata": {},
   "outputs": [],
   "source": [
    "import os\n",
    "import json\n",
    "from tqdm import tqdm\n",
    "\n",
    "def generate_prompt(prev_text, current_text, use_context=True):\n",
    "    if use_context and prev_text.strip():\n",
    "        return f\"\"\"Ниже приведены две реплики диалога: предыдущая и текущая. Текущая реплика получена распознаванием аудио. В ней могут встречаться слова, которые не вписываются в смысл фразы, потому что были неправильно распознаны. Такие слова нужно заменить на фонетически похожие, которые логически подходят в контексте.\n",
    "\n",
    "Твоя задача:\n",
    "- Исправить только те слова в текущей реплике, которые явно не вписываются в контекст и, скорее всего, были ошибкой распознавания.\n",
    "- Подбирать замену только из слов, которые звучат похоже (фонетически), и лучше подходят по смыслу.\n",
    "- Не переписывать реплику целиком. Не менять стиль, не переформулировать.\n",
    "- Не трогать нормально звучащие и логичные фразы — даже если они разговорные.\n",
    "- Не добавлять и не убирать слова без необходимости.\n",
    "- Если сомневаешься — оставь как есть.\n",
    "- Не возвращай ничего, кроме отредактированного текста.\n",
    "\n",
    "Контекст — предыдущая реплика собеседника:\n",
    "{prev_text}\n",
    "\n",
    "Текущая реплика (проверь и исправь при необходимости):\n",
    "{current_text}\n",
    "\n",
    "Исправленный вариант текущей реплики:\n",
    "\"\"\"\n",
    "    else:\n",
    "        return f\"\"\"Ниже — текст, полученный распознаванием аудио. В нём могут встречаться слова, которые не вписываются в смысл фразы, потому что были неправильно распознаны. Такие слова нужно заменить на фонетически похожие, которые логически подходят в контексте.\n",
    "\n",
    "ВАЖНО:\n",
    "- Не переписывай и не улучшай текст целиком.\n",
    "- Не меняй стиль речи, даже если он разговорный или неформальный.\n",
    "- Не добавляй и не убирай слова без необходимости.\n",
    "- Подбирать замену только из слов, которые звучат похоже (фонетически), и лучше подходят по смыслу.\n",
    "- Если сомневаешься — оставь как есть.\n",
    "- Не возвращай ничего, кроме отредактированного текста.\n",
    "\n",
    "Текст: {current_text}\n",
    "\n",
    "Отредактированный текст:\n",
    "\"\"\""
   ]
  },
  {
   "cell_type": "code",
   "execution_count": null,
   "id": "b48bc625-cd32-4bef-8494-1b334f42fbd7",
   "metadata": {},
   "outputs": [
    {
     "name": "stdout",
     "output_type": "stream",
     "text": [
      "\n",
      "Обработка файла А2_3_formatted.json\n"
     ]
    },
    {
     "name": "stderr",
     "output_type": "stream",
     "text": [
      "Обработка А2_3_formatted.json:  35%|███▍      | 165/472 [31:02<6:45:33, 79.26s/it]"
     ]
    },
    {
     "name": "stdout",
     "output_type": "stream",
     "text": [
      "Ошибка API: Request timed out.\n"
     ]
    },
    {
     "name": "stderr",
     "output_type": "stream",
     "text": [
      "Обработка А2_3_formatted.json:  48%|████▊     | 226/472 [53:19<1:44:34, 25.51s/it]"
     ]
    },
    {
     "name": "stdout",
     "output_type": "stream",
     "text": [
      "Ошибка API: Request timed out.\n"
     ]
    },
    {
     "name": "stderr",
     "output_type": "stream",
     "text": [
      "Обработка А2_3_formatted.json: 100%|█████████▉| 471/472 [2:02:15<01:44, 104.84s/it] "
     ]
    },
    {
     "name": "stdout",
     "output_type": "stream",
     "text": [
      "Ошибка API: Request timed out.\n"
     ]
    },
    {
     "name": "stderr",
     "output_type": "stream",
     "text": [
      "Обработка А2_3_formatted.json: 100%|██████████| 472/472 [2:02:38<00:00, 15.59s/it] \n"
     ]
    },
    {
     "name": "stdout",
     "output_type": "stream",
     "text": [
      "\n",
      "Обработка файла А1_7_formatted.json\n"
     ]
    },
    {
     "name": "stderr",
     "output_type": "stream",
     "text": [
      "Обработка А1_7_formatted.json:  47%|████▋     | 183/393 [56:42<8:06:03, 138.88s/it]"
     ]
    },
    {
     "name": "stdout",
     "output_type": "stream",
     "text": [
      "Ошибка API: Request timed out.\n"
     ]
    },
    {
     "name": "stderr",
     "output_type": "stream",
     "text": [
      "Обработка А1_7_formatted.json:  93%|█████████▎| 366/393 [2:16:56<13:19, 29.61s/it]   "
     ]
    },
    {
     "name": "stdout",
     "output_type": "stream",
     "text": [
      "Ошибка API: Request timed out.\n"
     ]
    },
    {
     "name": "stderr",
     "output_type": "stream",
     "text": [
      "Обработка А1_7_formatted.json: 100%|██████████| 393/393 [2:30:21<00:00, 22.96s/it] \n"
     ]
    },
    {
     "name": "stdout",
     "output_type": "stream",
     "text": [
      "\n",
      "Обработка файла A1_5_formatted.json\n"
     ]
    },
    {
     "name": "stderr",
     "output_type": "stream",
     "text": [
      "Обработка A1_5_formatted.json:  66%|██████▋   | 216/325 [59:56<49:31, 27.26s/it]  "
     ]
    },
    {
     "name": "stdout",
     "output_type": "stream",
     "text": [
      "Ошибка API: Request timed out.\n"
     ]
    },
    {
     "name": "stderr",
     "output_type": "stream",
     "text": [
      "Обработка A1_5_formatted.json:  79%|███████▉  | 257/325 [1:12:25<08:52,  7.84s/it]  "
     ]
    },
    {
     "name": "stdout",
     "output_type": "stream",
     "text": [
      "Ошибка API: Request timed out.\n"
     ]
    },
    {
     "name": "stderr",
     "output_type": "stream",
     "text": [
      "Обработка A1_5_formatted.json: 100%|██████████| 325/325 [1:28:26<00:00, 16.33s/it]\n"
     ]
    },
    {
     "name": "stdout",
     "output_type": "stream",
     "text": [
      "\n",
      "Обработка файла А2_5_formatted.json\n"
     ]
    },
    {
     "name": "stderr",
     "output_type": "stream",
     "text": [
      "Обработка А2_5_formatted.json:  51%|█████     | 108/211 [56:03<4:59:58, 174.74s/it]"
     ]
    },
    {
     "name": "stdout",
     "output_type": "stream",
     "text": [
      "Ошибка API: Request timed out.\n"
     ]
    },
    {
     "name": "stderr",
     "output_type": "stream",
     "text": [
      "Обработка А2_5_formatted.json: 100%|██████████| 211/211 [1:31:18<00:00, 25.96s/it]  \n"
     ]
    },
    {
     "name": "stdout",
     "output_type": "stream",
     "text": [
      "Ошибка API: Request timed out.\n",
      "\n",
      "Обработка файла А2_4(2)_formatted.json\n"
     ]
    },
    {
     "name": "stderr",
     "output_type": "stream",
     "text": [
      "Обработка А2_4(2)_formatted.json:  99%|█████████▊| 141/143 [52:36<04:54, 147.47s/it]]"
     ]
    },
    {
     "name": "stdout",
     "output_type": "stream",
     "text": [
      "Ошибка API: Request timed out.\n"
     ]
    },
    {
     "name": "stderr",
     "output_type": "stream",
     "text": [
      "Обработка А2_4(2)_formatted.json:  99%|█████████▉| 142/143 [1:06:16<05:49, 349.10s/it]"
     ]
    },
    {
     "name": "stdout",
     "output_type": "stream",
     "text": [
      "Ошибка API: Request timed out.\n"
     ]
    },
    {
     "name": "stderr",
     "output_type": "stream",
     "text": [
      "Обработка А2_4(2)_formatted.json: 100%|██████████| 143/143 [1:07:15<00:00, 28.22s/it] \n"
     ]
    },
    {
     "name": "stdout",
     "output_type": "stream",
     "text": [
      "Ошибка API: Request timed out.\n",
      "\n",
      "Обработка файла A1_6(2)_formatted.json\n"
     ]
    },
    {
     "name": "stderr",
     "output_type": "stream",
     "text": [
      "Обработка A1_6(2)_formatted.json:  44%|████▍     | 80/181 [31:05<30:45, 18.27s/it]   "
     ]
    },
    {
     "name": "stdout",
     "output_type": "stream",
     "text": [
      "Ошибка API: Request timed out.\n"
     ]
    },
    {
     "name": "stderr",
     "output_type": "stream",
     "text": [
      "Обработка A1_6(2)_formatted.json:  65%|██████▍   | 117/181 [55:11<27:26, 25.73s/it]  "
     ]
    },
    {
     "name": "stdout",
     "output_type": "stream",
     "text": [
      "Ошибка API: Request timed out.\n"
     ]
    },
    {
     "name": "stderr",
     "output_type": "stream",
     "text": [
      "Обработка A1_6(2)_formatted.json:  75%|███████▍  | 135/181 [1:01:06<34:15, 44.69s/it]"
     ]
    },
    {
     "name": "stdout",
     "output_type": "stream",
     "text": [
      "Ошибка API: Request timed out.\n"
     ]
    },
    {
     "name": "stderr",
     "output_type": "stream",
     "text": [
      "Обработка A1_6(2)_formatted.json:  75%|███████▌  | 136/181 [1:02:21<40:24, 53.88s/it]"
     ]
    },
    {
     "name": "stdout",
     "output_type": "stream",
     "text": [
      "Ошибка API: Request timed out.\n"
     ]
    },
    {
     "name": "stderr",
     "output_type": "stream",
     "text": [
      "Обработка A1_6(2)_formatted.json: 100%|██████████| 181/181 [1:41:05<00:00, 33.51s/it] \n"
     ]
    },
    {
     "name": "stdout",
     "output_type": "stream",
     "text": [
      "Ошибка API: Request timed out.\n",
      "\n",
      "Обработка файла А2_4_formatted.json\n"
     ]
    },
    {
     "name": "stderr",
     "output_type": "stream",
     "text": [
      "Обработка А2_4_formatted.json: 100%|██████████| 108/108 [25:25<00:00, 14.13s/it]\n"
     ]
    },
    {
     "name": "stdout",
     "output_type": "stream",
     "text": [
      "\n",
      "Обработка файла A1_6(1)_formatted.json\n"
     ]
    },
    {
     "name": "stderr",
     "output_type": "stream",
     "text": [
      "Обработка A1_6(1)_formatted.json:  63%|██████▎   | 76/121 [30:01<41:15, 55.02s/it]   "
     ]
    },
    {
     "name": "stdout",
     "output_type": "stream",
     "text": [
      "Ошибка API: Request timed out.\n"
     ]
    },
    {
     "name": "stderr",
     "output_type": "stream",
     "text": [
      "Обработка A1_6(1)_formatted.json:  65%|██████▌   | 79/121 [32:12<32:37, 46.61s/it]"
     ]
    },
    {
     "name": "stdout",
     "output_type": "stream",
     "text": [
      "Ошибка API: Request timed out.\n"
     ]
    },
    {
     "name": "stderr",
     "output_type": "stream",
     "text": [
      "Обработка A1_6(1)_formatted.json:  98%|█████████▊| 119/121 [54:46<01:57, 58.63s/it]"
     ]
    },
    {
     "name": "stdout",
     "output_type": "stream",
     "text": [
      "Ошибка API: Request timed out.\n"
     ]
    },
    {
     "name": "stderr",
     "output_type": "stream",
     "text": [
      "Обработка A1_6(1)_formatted.json: 100%|██████████| 121/121 [1:09:26<00:00, 34.44s/it] \n"
     ]
    }
   ],
   "source": [
    "import os\n",
    "import json\n",
    "from tqdm import tqdm\n",
    "from concurrent.futures import ThreadPoolExecutor, as_completed\n",
    "\n",
    "def call_api_for_entry(system_msg, user_prompt):\n",
    "    try:\n",
    "        resp = client.chat.completions.create(\n",
    "            model=\"Qwen/Qwen3-4B\",\n",
    "            messages=[\n",
    "                {\"role\": \"system\", \"content\": system_msg},\n",
    "                {\"role\": \"user\", \"content\": user_prompt}\n",
    "            ],\n",
    "            temperature=0.7,\n",
    "            top_p=0.9,\n",
    "            extra_body={\"top_k\": 20},\n",
    "            max_completion_tokens=32000\n",
    "        )\n",
    "        return resp.choices[0].message.content.strip()\n",
    "    except Exception as e:\n",
    "        print(f\"Ошибка API: {e}\")\n",
    "        return None\n",
    "\n",
    "def process_transcript_file_parallel(filepath, output_dir, max_workers=5):\n",
    "    with open(filepath, 'r', encoding='utf-8') as f:\n",
    "        data = json.load(f)\n",
    "\n",
    "    processed = [None] * len(data)\n",
    "    system_msg = \"Ты — помощник по корректировке автоматической транскрипции речи.\"\n",
    "\n",
    "    prompts = []\n",
    "    prev_text = \"\"\n",
    "    for idx, entry in enumerate(data):\n",
    "        use_context = idx > 0\n",
    "        prompt = generate_prompt(prev_text, entry[\"text\"], use_context=use_context)\n",
    "        prompts.append(prompt)\n",
    "        prev_text = entry[\"text\"]\n",
    "\n",
    "    with ThreadPoolExecutor(max_workers=max_workers) as executor:\n",
    "        futures = {}\n",
    "        for idx, prompt in enumerate(prompts):\n",
    "            futures[executor.submit(call_api_for_entry, system_msg, prompt)] = idx\n",
    "\n",
    "        for future in tqdm(as_completed(futures), total=len(futures), desc=f\"Обработка {os.path.basename(filepath)}\"):\n",
    "            idx = futures[future]\n",
    "            result = future.result()\n",
    "            if result is None:\n",
    "                result = data[idx][\"text\"]\n",
    "            data[idx][\"corrected_text\"] = result\n",
    "            processed[idx] = data[idx]\n",
    "\n",
    "    os.makedirs(output_dir, exist_ok=True)\n",
    "    out_path = os.path.join(output_dir, os.path.basename(filepath))\n",
    "    with open(out_path, 'w', encoding='utf-8') as f:\n",
    "        json.dump(processed, f, ensure_ascii=False, indent=2)\n",
    "\n",
    "input_folder = \"transcripts\"\n",
    "output_folder = \"corrected_transcripts\"\n",
    "\n",
    "for filename in os.listdir(input_folder):\n",
    "    if filename.endswith(\".json\"):\n",
    "        print(f\"\\nОбработка файла {filename}\")\n",
    "        process_transcript_file_parallel(os.path.join(input_folder, filename), output_folder, max_workers=5)"
   ]
  },
  {
   "cell_type": "code",
   "execution_count": null,
   "id": "31ab9e83-b184-432e-80a8-5a0262ceb3a1",
   "metadata": {},
   "outputs": [],
   "source": []
  }
 ],
 "metadata": {
  "kernelspec": {
   "display_name": "Python venv",
   "language": "python",
   "name": "myenv"
  },
  "language_info": {
   "codemirror_mode": {
    "name": "ipython",
    "version": 3
   },
   "file_extension": ".py",
   "mimetype": "text/x-python",
   "name": "python",
   "nbconvert_exporter": "python",
   "pygments_lexer": "ipython3",
   "version": "3.12.11"
  }
 },
 "nbformat": 4,
 "nbformat_minor": 5
}
